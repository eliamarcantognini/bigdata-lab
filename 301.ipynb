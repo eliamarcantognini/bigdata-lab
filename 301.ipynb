{
 "cells": [
  {
   "cell_type": "markdown",
   "id": "7dd7243a-b7d3-4e47-b3ec-49cafdebada5",
   "metadata": {},
   "source": [
    "# 301 Spark basics\n",
    "\n",
    "The goal of this lab is to get familiar with Spark programming.\n",
    "\n",
    "- [Spark programming guide](https://spark.apache.org/docs/latest/rdd-programming-guide.html)\n",
    "- [RDD APIs](https://spark.apache.org/docs/latest/api/scala/org/apache/spark/rdd/RDD.html)\n",
    "- [PairRDD APIs](https://spark.apache.org/docs/latest/api/scala/org/apache/spark/rdd/PairRDDFunctions.html)\n",
    "\n",
    "## 301-2 Running a sample Spark job\n",
    "\n",
    "Goal: calculate the average temperature for every month; dataset is ```weather-sample1```."
   ]
  },
  {
   "cell_type": "code",
   "execution_count": 1,
   "id": "9323446c-bdfe-4eff-b87a-ce57f7c840b1",
   "metadata": {
    "execution": {
     "iopub.execute_input": "2022-10-17T09:32:03.515236Z",
     "iopub.status.busy": "2022-10-17T09:32:03.514890Z",
     "iopub.status.idle": "2022-10-17T09:33:00.276202Z",
     "shell.execute_reply": "2022-10-17T09:33:00.275326Z",
     "shell.execute_reply.started": "2022-10-17T09:32:03.515196Z"
    },
    "tags": []
   },
   "outputs": [
    {
     "data": {
      "application/vnd.jupyter.widget-view+json": {
       "model_id": "6466e6d726184b70b8962b03b8d1475c",
       "version_major": 2,
       "version_minor": 0
      },
      "text/plain": [
       "VBox()"
      ]
     },
     "metadata": {},
     "output_type": "display_data"
    },
    {
     "name": "stdout",
     "output_type": "stream",
     "text": [
      "Starting Spark application\n"
     ]
    },
    {
     "data": {
      "text/html": [
       "<table>\n",
       "<tr><th>ID</th><th>YARN Application ID</th><th>Kind</th><th>State</th><th>Spark UI</th><th>Driver log</th><th>User</th><th>Current session?</th></tr><tr><td>0</td><td>application_1665998688945_0001</td><td>spark</td><td>idle</td><td><a target=\"_blank\" href=\"http://ip-172-31-18-52.ec2.internal:20888/proxy/application_1665998688945_0001/\" class=\"emr-proxy-link\" emr-resource=\"j-ZO4N2E18944W\n",
       "\" application-id=\"application_1665998688945_0001\">Link</a></td><td><a target=\"_blank\" href=\"http://ip-172-31-30-114.ec2.internal:8042/node/containerlogs/container_1665998688945_0001_01_000001/livy\" >Link</a></td><td>None</td><td>✔</td></tr></table>"
      ],
      "text/plain": [
       "<IPython.core.display.HTML object>"
      ]
     },
     "metadata": {},
     "output_type": "display_data"
    },
    {
     "data": {
      "application/vnd.jupyter.widget-view+json": {
       "model_id": "",
       "version_major": 2,
       "version_minor": 0
      },
      "text/plain": [
       "FloatProgress(value=0.0, bar_style='info', description='Progress:', layout=Layout(height='25px', width='50%'),…"
      ]
     },
     "metadata": {},
     "output_type": "display_data"
    },
    {
     "name": "stdout",
     "output_type": "stream",
     "text": [
      "SparkSession available as 'spark'.\n"
     ]
    },
    {
     "data": {
      "application/vnd.jupyter.widget-view+json": {
       "model_id": "",
       "version_major": 2,
       "version_minor": 0
      },
      "text/plain": [
       "FloatProgress(value=0.0, bar_style='info', description='Progress:', layout=Layout(height='25px', width='50%'),…"
      ]
     },
     "metadata": {},
     "output_type": "display_data"
    },
    {
     "name": "stdout",
     "output_type": "stream",
     "text": [
      "bucketname: String = unibo-bd2223-emarcantognini\n",
      "rddWeather: org.apache.spark.rdd.RDD[String] = s3a://unibo-bd2223-emarcantognini/datasets/weather-sample1.txt MapPartitionsRDD[1] at textFile at <console>:25\n"
     ]
    }
   ],
   "source": [
    "val bucketname = \"unibo-bd2223-emarcantognini\"\n",
    "\n",
    "val rddWeather = sc.textFile(\"s3a://\"+bucketname+\"/datasets/weather-sample1.txt\")"
   ]
  },
  {
   "cell_type": "code",
   "execution_count": 2,
   "id": "09a5830c-1cd8-4f3a-bfc5-f91e9aa8d87f",
   "metadata": {
    "execution": {
     "iopub.execute_input": "2022-10-17T09:33:00.278093Z",
     "iopub.status.busy": "2022-10-17T09:33:00.277831Z",
     "iopub.status.idle": "2022-10-17T09:33:11.648277Z",
     "shell.execute_reply": "2022-10-17T09:33:11.647197Z",
     "shell.execute_reply.started": "2022-10-17T09:33:00.278058Z"
    },
    "tags": []
   },
   "outputs": [
    {
     "data": {
      "application/vnd.jupyter.widget-view+json": {
       "model_id": "c6612e66c576444ca889578b206dacb0",
       "version_major": 2,
       "version_minor": 0
      },
      "text/plain": [
       "VBox()"
      ]
     },
     "metadata": {},
     "output_type": "display_data"
    },
    {
     "data": {
      "application/vnd.jupyter.widget-view+json": {
       "model_id": "",
       "version_major": 2,
       "version_minor": 0
      },
      "text/plain": [
       "FloatProgress(value=0.0, bar_style='info', description='Progress:', layout=Layout(height='25px', width='50%'),…"
      ]
     },
     "metadata": {},
     "output_type": "display_data"
    },
    {
     "name": "stdout",
     "output_type": "stream",
     "text": [
      "parseWeatherLine: (line: String)(String, Double)\n",
      "rddWeatherKv: org.apache.spark.rdd.RDD[(String, Double)] = MapPartitionsRDD[2] at map at <console>:26\n",
      "rddTempDataPerMonth: org.apache.spark.rdd.RDD[(String, (Double, Double))] = ShuffledRDD[3] at aggregateByKey at <console>:24\n",
      "rddAvgTempPerMonth: org.apache.spark.rdd.RDD[(String, Double)] = MapPartitionsRDD[4] at map at <console>:24\n",
      "rddCached: org.apache.spark.rdd.RDD[(String, Double)] = CoalescedRDD[8] at coalesce at <console>:24\n"
     ]
    }
   ],
   "source": [
    "def parseWeatherLine(line:String):(String,Double) = {\n",
    "  val year = line.substring(15,19)\n",
    "  val month = line.substring(19,21)\n",
    "  val day = line.substring(21,23)\n",
    "  var temp = line.substring(87,92).toInt\n",
    "  (month, temp/10)\n",
    "}\n",
    "\n",
    "// Parse records\n",
    "val rddWeatherKv = rddWeather.map(x => parseWeatherLine(x))\n",
    "// Aggregate by key (i.e., month) to compute the sum and the count of temperature values\n",
    "val rddTempDataPerMonth = rddWeatherKv.aggregateByKey((0.0,0.0))((a,v)=>(a._1+v,a._2+1), (a1,a2)=>(a1._1+a2._1,a1._2+a2._2))\n",
    "// Calculate the average temperature in each record\n",
    "val rddAvgTempPerMonth = rddTempDataPerMonth.map({case(k,v) => (k, v._1/v._2)})\n",
    "// Sort, coalesce and cache the result (because it is used twice)\n",
    "val rddCached = rddAvgTempPerMonth.sortByKey().coalesce(1).cache()"
   ]
  },
  {
   "cell_type": "code",
   "execution_count": 3,
   "id": "9621e29d-4c97-4779-b7d1-e5126bce5d42",
   "metadata": {
    "execution": {
     "iopub.execute_input": "2022-10-17T09:33:11.650504Z",
     "iopub.status.busy": "2022-10-17T09:33:11.650325Z",
     "iopub.status.idle": "2022-10-17T09:33:12.969001Z",
     "shell.execute_reply": "2022-10-17T09:33:12.968150Z",
     "shell.execute_reply.started": "2022-10-17T09:33:11.650482Z"
    },
    "tags": []
   },
   "outputs": [
    {
     "data": {
      "application/vnd.jupyter.widget-view+json": {
       "model_id": "4ed9196c61ef4fc8a00976d11d74df54",
       "version_major": 2,
       "version_minor": 0
      },
      "text/plain": [
       "VBox()"
      ]
     },
     "metadata": {},
     "output_type": "display_data"
    },
    {
     "data": {
      "application/vnd.jupyter.widget-view+json": {
       "model_id": "",
       "version_major": 2,
       "version_minor": 0
      },
      "text/plain": [
       "FloatProgress(value=0.0, bar_style='info', description='Progress:', layout=Layout(height='25px', width='50%'),…"
      ]
     },
     "metadata": {},
     "output_type": "display_data"
    },
    {
     "name": "stdout",
     "output_type": "stream",
     "text": [
      "res8: Array[(String, Double)] = Array((01,29.764781644286497), (02,52.831468961278425), (03,49.43499927074724), (04,61.3592872169286), (05,55.82656), (06,55.45816479125297), (07,86.90952392350223), (08,79.250958082407), (09,80.51662117371808), (10,106.26454490168254), (11,113.49704495968224), (12,63.9184413544602))\n"
     ]
    }
   ],
   "source": [
    "// Show all the records\n",
    "rddCached.collect()"
   ]
  },
  {
   "cell_type": "code",
   "execution_count": 4,
   "id": "b50d2419-c6a0-4616-be1c-c24f09653107",
   "metadata": {
    "execution": {
     "iopub.execute_input": "2022-10-17T09:33:12.970559Z",
     "iopub.status.busy": "2022-10-17T09:33:12.970374Z",
     "iopub.status.idle": "2022-10-17T09:33:14.325233Z",
     "shell.execute_reply": "2022-10-17T09:33:14.310920Z",
     "shell.execute_reply.started": "2022-10-17T09:33:12.970530Z"
    },
    "tags": []
   },
   "outputs": [
    {
     "data": {
      "application/vnd.jupyter.widget-view+json": {
       "model_id": "44f947e364194d31beee65a1305df908",
       "version_major": 2,
       "version_minor": 0
      },
      "text/plain": [
       "VBox()"
      ]
     },
     "metadata": {},
     "output_type": "display_data"
    },
    {
     "data": {
      "application/vnd.jupyter.widget-view+json": {
       "model_id": "",
       "version_major": 2,
       "version_minor": 0
      },
      "text/plain": [
       "FloatProgress(value=0.0, bar_style='info', description='Progress:', layout=Layout(height='25px', width='50%'),…"
      ]
     },
     "metadata": {},
     "output_type": "display_data"
    },
    {
     "name": "stderr",
     "output_type": "stream",
     "text": [
      "An error was encountered:\n",
      "org.apache.hadoop.mapred.FileAlreadyExistsException: Output directory s3a://unibo-bd2223-emarcantognini/spark/301-2_1 already exists\n",
      "  at org.apache.hadoop.mapred.FileOutputFormat.checkOutputSpecs(FileOutputFormat.java:131)\n",
      "  at org.apache.spark.internal.io.HadoopMapRedWriteConfigUtil.assertConf(SparkHadoopWriter.scala:299)\n",
      "  at org.apache.spark.internal.io.SparkHadoopWriter$.write(SparkHadoopWriter.scala:71)\n",
      "  at org.apache.spark.rdd.PairRDDFunctions.$anonfun$saveAsHadoopDataset$1(PairRDDFunctions.scala:1091)\n",
      "  at scala.runtime.java8.JFunction0$mcV$sp.apply(JFunction0$mcV$sp.java:23)\n",
      "  at org.apache.spark.rdd.RDDOperationScope$.withScope(RDDOperationScope.scala:151)\n",
      "  at org.apache.spark.rdd.RDDOperationScope$.withScope(RDDOperationScope.scala:112)\n",
      "  at org.apache.spark.rdd.RDD.withScope(RDD.scala:406)\n",
      "  at org.apache.spark.rdd.PairRDDFunctions.saveAsHadoopDataset(PairRDDFunctions.scala:1089)\n",
      "  at org.apache.spark.rdd.PairRDDFunctions.$anonfun$saveAsHadoopFile$4(PairRDDFunctions.scala:1062)\n",
      "  at scala.runtime.java8.JFunction0$mcV$sp.apply(JFunction0$mcV$sp.java:23)\n",
      "  at org.apache.spark.rdd.RDDOperationScope$.withScope(RDDOperationScope.scala:151)\n",
      "  at org.apache.spark.rdd.RDDOperationScope$.withScope(RDDOperationScope.scala:112)\n",
      "  at org.apache.spark.rdd.RDD.withScope(RDD.scala:406)\n",
      "  at org.apache.spark.rdd.PairRDDFunctions.saveAsHadoopFile(PairRDDFunctions.scala:1027)\n",
      "  at org.apache.spark.rdd.PairRDDFunctions.$anonfun$saveAsHadoopFile$3(PairRDDFunctions.scala:1009)\n",
      "  at scala.runtime.java8.JFunction0$mcV$sp.apply(JFunction0$mcV$sp.java:23)\n",
      "  at org.apache.spark.rdd.RDDOperationScope$.withScope(RDDOperationScope.scala:151)\n",
      "  at org.apache.spark.rdd.RDDOperationScope$.withScope(RDDOperationScope.scala:112)\n",
      "  at org.apache.spark.rdd.RDD.withScope(RDD.scala:406)\n",
      "  at org.apache.spark.rdd.PairRDDFunctions.saveAsHadoopFile(PairRDDFunctions.scala:1008)\n",
      "  at org.apache.spark.rdd.PairRDDFunctions.$anonfun$saveAsHadoopFile$2(PairRDDFunctions.scala:965)\n",
      "  at scala.runtime.java8.JFunction0$mcV$sp.apply(JFunction0$mcV$sp.java:23)\n",
      "  at org.apache.spark.rdd.RDDOperationScope$.withScope(RDDOperationScope.scala:151)\n",
      "  at org.apache.spark.rdd.RDDOperationScope$.withScope(RDDOperationScope.scala:112)\n",
      "  at org.apache.spark.rdd.RDD.withScope(RDD.scala:406)\n",
      "  at org.apache.spark.rdd.PairRDDFunctions.saveAsHadoopFile(PairRDDFunctions.scala:963)\n",
      "  at org.apache.spark.rdd.RDD.$anonfun$saveAsTextFile$2(RDD.scala:1599)\n",
      "  at scala.runtime.java8.JFunction0$mcV$sp.apply(JFunction0$mcV$sp.java:23)\n",
      "  at org.apache.spark.rdd.RDDOperationScope$.withScope(RDDOperationScope.scala:151)\n",
      "  at org.apache.spark.rdd.RDDOperationScope$.withScope(RDDOperationScope.scala:112)\n",
      "  at org.apache.spark.rdd.RDD.withScope(RDD.scala:406)\n",
      "  at org.apache.spark.rdd.RDD.saveAsTextFile(RDD.scala:1599)\n",
      "  at org.apache.spark.rdd.RDD.$anonfun$saveAsTextFile$1(RDD.scala:1585)\n",
      "  at scala.runtime.java8.JFunction0$mcV$sp.apply(JFunction0$mcV$sp.java:23)\n",
      "  at org.apache.spark.rdd.RDDOperationScope$.withScope(RDDOperationScope.scala:151)\n",
      "  at org.apache.spark.rdd.RDDOperationScope$.withScope(RDDOperationScope.scala:112)\n",
      "  at org.apache.spark.rdd.RDD.withScope(RDD.scala:406)\n",
      "  at org.apache.spark.rdd.RDD.saveAsTextFile(RDD.scala:1585)\n",
      "  ... 51 elided\n",
      "\n"
     ]
    }
   ],
   "source": [
    "rddCached.saveAsTextFile(\"s3a://\"+bucketname+\"/spark/301-2_1\")"
   ]
  },
  {
   "cell_type": "markdown",
   "id": "a05b8fdd-ef59-4e64-b749-1d9ae50260bc",
   "metadata": {},
   "source": [
    "## 301-3 Spark warm-up\n",
    "\n",
    "Load the ```capra``` and ```divinacommedia``` datasets and try the following actions:\n",
    "- Show their content (```collect```)\n",
    "- Count their rows (```count```)\n",
    "- Split phrases into words (```map``` or ```flatMap```; what’s the difference?)\n",
    "- Check the results (remember: evaluation is lazy)\n",
    "- Try the ```toDebugString``` function to check the execution plan"
   ]
  },
  {
   "cell_type": "code",
   "execution_count": 5,
   "id": "52649088-9a57-437b-9127-0d29984b4e92",
   "metadata": {
    "execution": {
     "iopub.execute_input": "2022-10-17T09:33:14.333987Z",
     "iopub.status.busy": "2022-10-17T09:33:14.333510Z",
     "iopub.status.idle": "2022-10-17T09:33:15.140225Z",
     "shell.execute_reply": "2022-10-17T09:33:15.139495Z",
     "shell.execute_reply.started": "2022-10-17T09:33:14.333942Z"
    },
    "tags": []
   },
   "outputs": [
    {
     "data": {
      "application/vnd.jupyter.widget-view+json": {
       "model_id": "aef4c7c3b3094672bf216bac98a6cbf5",
       "version_major": 2,
       "version_minor": 0
      },
      "text/plain": [
       "VBox()"
      ]
     },
     "metadata": {},
     "output_type": "display_data"
    },
    {
     "data": {
      "application/vnd.jupyter.widget-view+json": {
       "model_id": "",
       "version_major": 2,
       "version_minor": 0
      },
      "text/plain": [
       "FloatProgress(value=0.0, bar_style='info', description='Progress:', layout=Layout(height='25px', width='50%'),…"
      ]
     },
     "metadata": {},
     "output_type": "display_data"
    },
    {
     "name": "stdout",
     "output_type": "stream",
     "text": [
      "rddCapra: org.apache.spark.rdd.RDD[String] = s3a://unibo-bd2223-emarcantognini/datasets/capra.txt MapPartitionsRDD[11] at textFile at <console>:24\n",
      "rddDC: org.apache.spark.rdd.RDD[String] = s3a://unibo-bd2223-emarcantognini/datasets/divinacommedia.txt MapPartitionsRDD[13] at textFile at <console>:24\n"
     ]
    }
   ],
   "source": [
    "val rddCapra = sc.textFile(\"s3a://\"+bucketname+\"/datasets/capra.txt\")\n",
    "val rddDC = sc.textFile(\"s3a://\"+bucketname+\"/datasets/divinacommedia.txt\")"
   ]
  },
  {
   "cell_type": "code",
   "execution_count": 6,
   "id": "c15f1258-961d-41d5-9c33-80c3aff8561e",
   "metadata": {
    "execution": {
     "iopub.execute_input": "2022-10-17T09:33:15.141400Z",
     "iopub.status.busy": "2022-10-17T09:33:15.141204Z",
     "iopub.status.idle": "2022-10-17T09:33:15.920297Z",
     "shell.execute_reply": "2022-10-17T09:33:15.919578Z",
     "shell.execute_reply.started": "2022-10-17T09:33:15.141360Z"
    },
    "tags": []
   },
   "outputs": [
    {
     "data": {
      "application/vnd.jupyter.widget-view+json": {
       "model_id": "a4daaef992ff468e8f9135901cc20259",
       "version_major": 2,
       "version_minor": 0
      },
      "text/plain": [
       "VBox()"
      ]
     },
     "metadata": {},
     "output_type": "display_data"
    },
    {
     "data": {
      "application/vnd.jupyter.widget-view+json": {
       "model_id": "",
       "version_major": 2,
       "version_minor": 0
      },
      "text/plain": [
       "FloatProgress(value=0.0, bar_style='info', description='Progress:', layout=Layout(height='25px', width='50%'),…"
      ]
     },
     "metadata": {},
     "output_type": "display_data"
    },
    {
     "name": "stdout",
     "output_type": "stream",
     "text": [
      "res10: Array[String] = Array(sopra la panca la capra campa, sotto la panca la capra crepa)\n"
     ]
    }
   ],
   "source": [
    "rddCapra.collect()"
   ]
  },
  {
   "cell_type": "code",
   "execution_count": 7,
   "id": "22dcc681-9cff-488e-9f25-69ca33c960f8",
   "metadata": {
    "execution": {
     "iopub.execute_input": "2022-10-17T09:33:15.921475Z",
     "iopub.status.busy": "2022-10-17T09:33:15.921302Z",
     "iopub.status.idle": "2022-10-17T09:33:16.714223Z",
     "shell.execute_reply": "2022-10-17T09:33:16.713482Z",
     "shell.execute_reply.started": "2022-10-17T09:33:15.921453Z"
    },
    "tags": []
   },
   "outputs": [
    {
     "data": {
      "application/vnd.jupyter.widget-view+json": {
       "model_id": "b9128155eaac402da77017fb7099f62f",
       "version_major": 2,
       "version_minor": 0
      },
      "text/plain": [
       "VBox()"
      ]
     },
     "metadata": {},
     "output_type": "display_data"
    },
    {
     "data": {
      "application/vnd.jupyter.widget-view+json": {
       "model_id": "",
       "version_major": 2,
       "version_minor": 0
      },
      "text/plain": [
       "FloatProgress(value=0.0, bar_style='info', description='Progress:', layout=Layout(height='25px', width='50%'),…"
      ]
     },
     "metadata": {},
     "output_type": "display_data"
    },
    {
     "name": "stdout",
     "output_type": "stream",
     "text": [
      "res11: Long = 2\n"
     ]
    }
   ],
   "source": [
    "rddCapra.count()"
   ]
  },
  {
   "cell_type": "code",
   "execution_count": 8,
   "id": "6f3a371d-7553-432a-a2ee-69f2910878ab",
   "metadata": {
    "execution": {
     "iopub.execute_input": "2022-10-17T09:33:16.717311Z",
     "iopub.status.busy": "2022-10-17T09:33:16.717048Z",
     "iopub.status.idle": "2022-10-17T09:33:17.625640Z",
     "shell.execute_reply": "2022-10-17T09:33:17.621156Z",
     "shell.execute_reply.started": "2022-10-17T09:33:16.717275Z"
    },
    "tags": []
   },
   "outputs": [
    {
     "data": {
      "application/vnd.jupyter.widget-view+json": {
       "model_id": "d9967eec558840799cf6a16a1879006a",
       "version_major": 2,
       "version_minor": 0
      },
      "text/plain": [
       "VBox()"
      ]
     },
     "metadata": {},
     "output_type": "display_data"
    },
    {
     "data": {
      "application/vnd.jupyter.widget-view+json": {
       "model_id": "",
       "version_major": 2,
       "version_minor": 0
      },
      "text/plain": [
       "FloatProgress(value=0.0, bar_style='info', description='Progress:', layout=Layout(height='25px', width='50%'),…"
      ]
     },
     "metadata": {},
     "output_type": "display_data"
    },
    {
     "name": "stdout",
     "output_type": "stream",
     "text": [
      "res12: Array[String] = Array(sopra, la, panca, la, capra, campa, sotto, la, panca, la, capra, crepa)\n"
     ]
    }
   ],
   "source": [
    "rddCapra.flatMap(x => x.split(\" \")).collect()"
   ]
  },
  {
   "cell_type": "code",
   "execution_count": 9,
   "id": "8aca1551-988a-490e-82b1-e6186f28de1d",
   "metadata": {
    "execution": {
     "iopub.execute_input": "2022-10-17T09:33:17.627416Z",
     "iopub.status.busy": "2022-10-17T09:33:17.627216Z",
     "iopub.status.idle": "2022-10-17T09:33:18.419744Z",
     "shell.execute_reply": "2022-10-17T09:33:18.418953Z",
     "shell.execute_reply.started": "2022-10-17T09:33:17.627392Z"
    },
    "tags": []
   },
   "outputs": [
    {
     "data": {
      "application/vnd.jupyter.widget-view+json": {
       "model_id": "a38fcd4a977a495abfe627cb1b72da08",
       "version_major": 2,
       "version_minor": 0
      },
      "text/plain": [
       "VBox()"
      ]
     },
     "metadata": {},
     "output_type": "display_data"
    },
    {
     "data": {
      "application/vnd.jupyter.widget-view+json": {
       "model_id": "",
       "version_major": 2,
       "version_minor": 0
      },
      "text/plain": [
       "FloatProgress(value=0.0, bar_style='info', description='Progress:', layout=Layout(height='25px', width='50%'),…"
      ]
     },
     "metadata": {},
     "output_type": "display_data"
    },
    {
     "name": "stdout",
     "output_type": "stream",
     "text": [
      "res13: Array[String] = Array(LA DIVINA COMMEDIA, di Dante Alighieri, INFERNO, \"\", \"\", \"\", Inferno: Canto I, \"\", \"  Nel mezzo del cammin di nostra vita\", mi ritrovai per una selva oscura, ch? la diritta via era smarrita., \"  Ahi quanto a dir qual era ? cosa dura\", esta selva selvaggia e aspra e forte, che nel pensier rinova la paura!, \"  Tant'? amara che poco ? pi? morte;\", ma per trattar del ben ch'i' vi trovai,, dir? de l'altre cose ch'i' v'ho scorte., \"  Io non so ben ridir com'i' v'intrai,\", tant'era pien di sonno a quel punto, che la verace via abbandonai., \"  Ma poi ch'i' fui al pi? d'un colle giunto,\", l? dove terminava quella valle, che m'avea di paura il cor compunto,, \"  guardai in alto, e vidi le sue spalle\", vestite gi? de' raggi del pianeta, che mena dritto altrui per ogne c...\n"
     ]
    }
   ],
   "source": [
    "rddDC.collect()"
   ]
  },
  {
   "cell_type": "code",
   "execution_count": 10,
   "id": "a9c82edb-291c-48c0-8024-9f1d38ba664a",
   "metadata": {
    "execution": {
     "iopub.execute_input": "2022-10-17T09:33:18.421421Z",
     "iopub.status.busy": "2022-10-17T09:33:18.421167Z",
     "iopub.status.idle": "2022-10-17T09:33:19.232213Z",
     "shell.execute_reply": "2022-10-17T09:33:19.231284Z",
     "shell.execute_reply.started": "2022-10-17T09:33:18.421386Z"
    },
    "tags": []
   },
   "outputs": [
    {
     "data": {
      "application/vnd.jupyter.widget-view+json": {
       "model_id": "3287bb34c5a3484994f2cd64cf1ca363",
       "version_major": 2,
       "version_minor": 0
      },
      "text/plain": [
       "VBox()"
      ]
     },
     "metadata": {},
     "output_type": "display_data"
    },
    {
     "data": {
      "application/vnd.jupyter.widget-view+json": {
       "model_id": "",
       "version_major": 2,
       "version_minor": 0
      },
      "text/plain": [
       "FloatProgress(value=0.0, bar_style='info', description='Progress:', layout=Layout(height='25px', width='50%'),…"
      ]
     },
     "metadata": {},
     "output_type": "display_data"
    },
    {
     "name": "stdout",
     "output_type": "stream",
     "text": [
      "res14: Long = 14753\n"
     ]
    }
   ],
   "source": [
    "rddDC.count()"
   ]
  },
  {
   "cell_type": "code",
   "execution_count": 11,
   "id": "c1cce1c6-cf2d-4f47-8d71-5c7017a732cc",
   "metadata": {
    "execution": {
     "iopub.execute_input": "2022-10-17T09:33:19.233463Z",
     "iopub.status.busy": "2022-10-17T09:33:19.233253Z",
     "iopub.status.idle": "2022-10-17T09:33:20.116305Z",
     "shell.execute_reply": "2022-10-17T09:33:20.115491Z",
     "shell.execute_reply.started": "2022-10-17T09:33:19.233439Z"
    },
    "tags": []
   },
   "outputs": [
    {
     "data": {
      "application/vnd.jupyter.widget-view+json": {
       "model_id": "336e6b1c5f00432aad1c4ed9a5184d7b",
       "version_major": 2,
       "version_minor": 0
      },
      "text/plain": [
       "VBox()"
      ]
     },
     "metadata": {},
     "output_type": "display_data"
    },
    {
     "data": {
      "application/vnd.jupyter.widget-view+json": {
       "model_id": "",
       "version_major": 2,
       "version_minor": 0
      },
      "text/plain": [
       "FloatProgress(value=0.0, bar_style='info', description='Progress:', layout=Layout(height='25px', width='50%'),…"
      ]
     },
     "metadata": {},
     "output_type": "display_data"
    },
    {
     "name": "stdout",
     "output_type": "stream",
     "text": [
      "res15: Array[String] = Array(LA, DIVINA, COMMEDIA, di, Dante, Alighieri, INFERNO, \"\", \"\", \"\", Inferno:, Canto, I, \"\", \"\", \"\", Nel, mezzo, del, cammin, di, nostra, vita, mi, ritrovai, per, una, selva, oscura, ch?, la, diritta, via, era, smarrita., \"\", \"\", Ahi, quanto, a, dir, qual, era, ?, cosa, dura, esta, selva, selvaggia, e, aspra, e, forte, che, nel, pensier, rinova, la, paura!, \"\", \"\", Tant'?, amara, che, poco, ?, pi?, morte;, ma, per, trattar, del, ben, ch'i', vi, trovai,, dir?, de, l'altre, cose, ch'i', v'ho, scorte., \"\", \"\", Io, non, so, ben, ridir, com'i', v'intrai,, tant'era, pien, di, sonno, a, quel, punto, che, la, verace, via, abbandonai., \"\", \"\", Ma, poi, ch'i', fui, al, pi?, d'un, colle, giunto,, l?, dove, terminava, quella, valle, che, m'avea, di, paura, il, cor, compunto...\n"
     ]
    }
   ],
   "source": [
    "rddDC.flatMap(x => x.split(\" \")).collect()"
   ]
  },
  {
   "cell_type": "markdown",
   "id": "bb2d9363-3ce0-411b-a826-ee3cceb935a1",
   "metadata": {},
   "source": [
    "## 301-4 From MapReduce to Spark\n",
    "\n",
    "Reproduce on Spark the exercises seen on Hadoop MapReduce on the capra and divinacommedia datasets.\n",
    "\n",
    "- Jobs:\n",
    "  - Count the number of occurrences of each word\n",
    "    - Result: (sopra, 1), (la, 4), …\n",
    "  - Count the number of occurrences of words of given lengths\n",
    "    - Result: (2, 4), (5, 8)\n",
    "  - Count the average length of words given their first letter (hint: check the example in 301-1)\n",
    "    - Result: (s, 5), (l, 2), …\n",
    "  - Return the inverted index of words\n",
    "    - Result: (sopra, (0)), (la, (0, 1)), ...\n",
    "- How does Spark compare with respect to MapReduce? (performance, ease of use)\n",
    "- How is the output sorted? How can you sort by value?"
   ]
  },
  {
   "cell_type": "code",
   "execution_count": 12,
   "id": "c29cca59-db7d-46ac-94d0-a9c80b047c94",
   "metadata": {
    "execution": {
     "iopub.execute_input": "2022-10-17T09:33:20.117437Z",
     "iopub.status.busy": "2022-10-17T09:33:20.117271Z",
     "iopub.status.idle": "2022-10-17T09:33:21.009426Z",
     "shell.execute_reply": "2022-10-17T09:33:20.986110Z",
     "shell.execute_reply.started": "2022-10-17T09:33:20.117415Z"
    },
    "tags": []
   },
   "outputs": [
    {
     "data": {
      "application/vnd.jupyter.widget-view+json": {
       "model_id": "5bfeb31866f4467c8729b62f3498bea4",
       "version_major": 2,
       "version_minor": 0
      },
      "text/plain": [
       "VBox()"
      ]
     },
     "metadata": {},
     "output_type": "display_data"
    },
    {
     "data": {
      "application/vnd.jupyter.widget-view+json": {
       "model_id": "",
       "version_major": 2,
       "version_minor": 0
      },
      "text/plain": [
       "FloatProgress(value=0.0, bar_style='info', description='Progress:', layout=Layout(height='25px', width='50%'),…"
      ]
     },
     "metadata": {},
     "output_type": "display_data"
    },
    {
     "name": "stdout",
     "output_type": "stream",
     "text": [
      "rddCapraWords: org.apache.spark.rdd.RDD[String] = MapPartitionsRDD[16] at flatMap at <console>:23\n"
     ]
    }
   ],
   "source": [
    "val rddCapraWords = rddCapra.flatMap(_.split(\" \")).cache()"
   ]
  },
  {
   "cell_type": "code",
   "execution_count": 13,
   "id": "e534d32e-7c19-4267-8ed1-1b6ac90b5a31",
   "metadata": {
    "execution": {
     "iopub.execute_input": "2022-10-17T09:33:21.019920Z",
     "iopub.status.busy": "2022-10-17T09:33:21.017954Z",
     "iopub.status.idle": "2022-10-17T09:33:21.877795Z",
     "shell.execute_reply": "2022-10-17T09:33:21.876956Z",
     "shell.execute_reply.started": "2022-10-17T09:33:21.019878Z"
    },
    "tags": []
   },
   "outputs": [
    {
     "data": {
      "application/vnd.jupyter.widget-view+json": {
       "model_id": "7ace2b1eb35a41c1bdf889f1ee84be71",
       "version_major": 2,
       "version_minor": 0
      },
      "text/plain": [
       "VBox()"
      ]
     },
     "metadata": {},
     "output_type": "display_data"
    },
    {
     "data": {
      "application/vnd.jupyter.widget-view+json": {
       "model_id": "",
       "version_major": 2,
       "version_minor": 0
      },
      "text/plain": [
       "FloatProgress(value=0.0, bar_style='info', description='Progress:', layout=Layout(height='25px', width='50%'),…"
      ]
     },
     "metadata": {},
     "output_type": "display_data"
    },
    {
     "name": "stdout",
     "output_type": "stream",
     "text": [
      "rddDCWords: org.apache.spark.rdd.RDD[String] = MapPartitionsRDD[17] at flatMap at <console>:23\n"
     ]
    }
   ],
   "source": [
    "val rddDCWords = rddDC.flatMap(_.split(\" \")).cache()"
   ]
  },
  {
   "cell_type": "code",
   "execution_count": 14,
   "id": "eb459a42-6015-4c1a-9481-16f42a413040",
   "metadata": {
    "execution": {
     "iopub.execute_input": "2022-10-17T09:33:21.879861Z",
     "iopub.status.busy": "2022-10-17T09:33:21.879407Z",
     "iopub.status.idle": "2022-10-17T09:33:23.174412Z",
     "shell.execute_reply": "2022-10-17T09:33:23.173673Z",
     "shell.execute_reply.started": "2022-10-17T09:33:21.879824Z"
    },
    "tags": []
   },
   "outputs": [
    {
     "data": {
      "application/vnd.jupyter.widget-view+json": {
       "model_id": "02d22856c6c44ea9aad3bebe32e64c28",
       "version_major": 2,
       "version_minor": 0
      },
      "text/plain": [
       "VBox()"
      ]
     },
     "metadata": {},
     "output_type": "display_data"
    },
    {
     "data": {
      "application/vnd.jupyter.widget-view+json": {
       "model_id": "",
       "version_major": 2,
       "version_minor": 0
      },
      "text/plain": [
       "FloatProgress(value=0.0, bar_style='info', description='Progress:', layout=Layout(height='25px', width='50%'),…"
      ]
     },
     "metadata": {},
     "output_type": "display_data"
    },
    {
     "name": "stdout",
     "output_type": "stream",
     "text": [
      "res17: Array[(String, Int)] = Array((campa,1), (la,4), (panca,2), (sotto,1), (crepa,1), (sopra,1), (capra,2))\n"
     ]
    }
   ],
   "source": [
    "// 1\n",
    "rddCapraWords.map(x => (x, 1)).reduceByKey((x, y) => x + y).collect()"
   ]
  },
  {
   "cell_type": "code",
   "execution_count": 15,
   "id": "92a7492e-d405-452a-8755-dba760788e97",
   "metadata": {
    "execution": {
     "iopub.execute_input": "2022-10-17T09:33:23.175567Z",
     "iopub.status.busy": "2022-10-17T09:33:23.175382Z",
     "iopub.status.idle": "2022-10-17T09:33:24.478638Z",
     "shell.execute_reply": "2022-10-17T09:33:24.466063Z",
     "shell.execute_reply.started": "2022-10-17T09:33:23.175544Z"
    },
    "tags": []
   },
   "outputs": [
    {
     "data": {
      "application/vnd.jupyter.widget-view+json": {
       "model_id": "743b627c7928454f9fd746cabdda561b",
       "version_major": 2,
       "version_minor": 0
      },
      "text/plain": [
       "VBox()"
      ]
     },
     "metadata": {},
     "output_type": "display_data"
    },
    {
     "data": {
      "application/vnd.jupyter.widget-view+json": {
       "model_id": "",
       "version_major": 2,
       "version_minor": 0
      },
      "text/plain": [
       "FloatProgress(value=0.0, bar_style='info', description='Progress:', layout=Layout(height='25px', width='50%'),…"
      ]
     },
     "metadata": {},
     "output_type": "display_data"
    },
    {
     "name": "stdout",
     "output_type": "stream",
     "text": [
      "res19: Array[(String, Int)] = Array((grand'avello,,1), (diseta,1), (vane.,1), (tonda,3), (blandimenti;,1), (sapore,1), (dando,3), (Verrucchio,,1), (Mantua,1), (m'apparvero,1), (disiderate,1), (dole,1), (moventi,1), (rincalzi,1), (freni,,1), (Voglia,1), (focina,1), (tormento,5), (s?:,2), (marino,,1), (scalz?,1), (pensassi,1), (esser,,2), (rade,2), (prava\".,1), (Forese,,1), (forti,4), (rossi:,1), (richiuso\".,1), (\"Segnor,1), (rota.,1), (\"ver',1), (pronti,1), (tr'ambo,2), (ch'ode,1), (chiari,,1), (lontana?\".,1), (rinovelle.,1), (perdonasse,1), (Pluto,,1), (falsai,2), (nova,,3), (sparito,,1), (stampa,,1), (doglia,7), (regina,3), (pianto;,2), (Alto,2), (giovinezza.,1), (quell'albor,1), (asciutto,,1), (ch'ello,1), (padre,,14), (coperchio,3), (vite,4), (Anassagora,1), (dormia,,1), (consum?,1),...\n"
     ]
    }
   ],
   "source": [
    "// 1\n",
    "rddDCWords.map(x => (x, 1)).reduceByKey((x, y) => x + y).collect()"
   ]
  },
  {
   "cell_type": "code",
   "execution_count": 16,
   "id": "32e948d0-6741-4aca-99c2-729c781d5a8a",
   "metadata": {
    "execution": {
     "iopub.execute_input": "2022-10-17T09:33:24.500877Z",
     "iopub.status.busy": "2022-10-17T09:33:24.498120Z",
     "iopub.status.idle": "2022-10-17T09:33:25.322252Z",
     "shell.execute_reply": "2022-10-17T09:33:25.321546Z",
     "shell.execute_reply.started": "2022-10-17T09:33:24.500830Z"
    },
    "tags": []
   },
   "outputs": [
    {
     "data": {
      "application/vnd.jupyter.widget-view+json": {
       "model_id": "0874c8a365ab4867956b78ed876fcb72",
       "version_major": 2,
       "version_minor": 0
      },
      "text/plain": [
       "VBox()"
      ]
     },
     "metadata": {},
     "output_type": "display_data"
    },
    {
     "data": {
      "application/vnd.jupyter.widget-view+json": {
       "model_id": "",
       "version_major": 2,
       "version_minor": 0
      },
      "text/plain": [
       "FloatProgress(value=0.0, bar_style='info', description='Progress:', layout=Layout(height='25px', width='50%'),…"
      ]
     },
     "metadata": {},
     "output_type": "display_data"
    },
    {
     "name": "stdout",
     "output_type": "stream",
     "text": [
      "res21: Array[(Int, Int)] = Array((2,4), (5,8))\n"
     ]
    }
   ],
   "source": [
    "// 2\n",
    "rddCapraWords.map(x => (x, 1)).map({case (k,v) => (k.size, v)}).reduceByKey((x,y) => x+y).collect()"
   ]
  },
  {
   "cell_type": "code",
   "execution_count": 17,
   "id": "1c706cbb-628c-4cd6-b3c2-fe04c87a6040",
   "metadata": {
    "execution": {
     "iopub.execute_input": "2022-10-17T09:33:25.323461Z",
     "iopub.status.busy": "2022-10-17T09:33:25.323272Z",
     "iopub.status.idle": "2022-10-17T09:33:26.113060Z",
     "shell.execute_reply": "2022-10-17T09:33:26.112206Z",
     "shell.execute_reply.started": "2022-10-17T09:33:25.323438Z"
    },
    "tags": []
   },
   "outputs": [
    {
     "data": {
      "application/vnd.jupyter.widget-view+json": {
       "model_id": "40f26e18de9f42279ad6a1186262cf9d",
       "version_major": 2,
       "version_minor": 0
      },
      "text/plain": [
       "VBox()"
      ]
     },
     "metadata": {},
     "output_type": "display_data"
    },
    {
     "data": {
      "application/vnd.jupyter.widget-view+json": {
       "model_id": "",
       "version_major": 2,
       "version_minor": 0
      },
      "text/plain": [
       "FloatProgress(value=0.0, bar_style='info', description='Progress:', layout=Layout(height='25px', width='50%'),…"
      ]
     },
     "metadata": {},
     "output_type": "display_data"
    },
    {
     "name": "stdout",
     "output_type": "stream",
     "text": [
      "res23: Array[(Int, Int)] = Array((4,9111), (16,3), (14,50), (6,11775), (8,5363), (12,370), (10,1741), (2,19258), (13,154), (15,18), (11,933), (1,6988), (17,1), (3,16887), (7,7379), (9,3231), (5,13504))\n"
     ]
    }
   ],
   "source": [
    "// 2\n",
    "rddDCWords.filter(x => !(x == \"\" || x == \"!\" || x == \".\")).map(x => (x, 1)).map({case (k,v) => (k.size, v)}).reduceByKey((x,y) => x+y).collect()"
   ]
  },
  {
   "cell_type": "code",
   "execution_count": 21,
   "id": "a7c1d8da-43f4-48bf-9efd-8ec274b40cb9",
   "metadata": {
    "execution": {
     "iopub.execute_input": "2022-10-17T09:34:14.028860Z",
     "iopub.status.busy": "2022-10-17T09:34:14.028539Z",
     "iopub.status.idle": "2022-10-17T09:34:14.885728Z",
     "shell.execute_reply": "2022-10-17T09:34:14.883892Z",
     "shell.execute_reply.started": "2022-10-17T09:34:14.028824Z"
    },
    "tags": []
   },
   "outputs": [
    {
     "data": {
      "application/vnd.jupyter.widget-view+json": {
       "model_id": "683166adac434c379c079eed562e236a",
       "version_major": 2,
       "version_minor": 0
      },
      "text/plain": [
       "VBox()"
      ]
     },
     "metadata": {},
     "output_type": "display_data"
    },
    {
     "data": {
      "application/vnd.jupyter.widget-view+json": {
       "model_id": "",
       "version_major": 2,
       "version_minor": 0
      },
      "text/plain": [
       "FloatProgress(value=0.0, bar_style='info', description='Progress:', layout=Layout(height='25px', width='50%'),…"
      ]
     },
     "metadata": {},
     "output_type": "display_data"
    },
    {
     "name": "stdout",
     "output_type": "stream",
     "text": [
      "res31: Array[(String, Int)] = Array((p,2), (l,4), (s,2), (c,4))\n"
     ]
    }
   ],
   "source": [
    "// 3\n",
    "rddCapraWords.map(x => (x, 1)).map({case (k,v) => (k.substring(0,1).toLowerCase, v)}).reduceByKey((x,y) => x+y).collect()"
   ]
  },
  {
   "cell_type": "code",
   "execution_count": 22,
   "id": "52dba21e-b816-488b-8dc9-60a890d3b794",
   "metadata": {
    "execution": {
     "iopub.execute_input": "2022-10-17T09:34:17.871115Z",
     "iopub.status.busy": "2022-10-17T09:34:17.870860Z",
     "iopub.status.idle": "2022-10-17T09:34:18.643266Z",
     "shell.execute_reply": "2022-10-17T09:34:18.642535Z",
     "shell.execute_reply.started": "2022-10-17T09:34:17.871090Z"
    },
    "tags": []
   },
   "outputs": [
    {
     "data": {
      "application/vnd.jupyter.widget-view+json": {
       "model_id": "d2d8ceebafdb4d57aedac95d982e4df8",
       "version_major": 2,
       "version_minor": 0
      },
      "text/plain": [
       "VBox()"
      ]
     },
     "metadata": {},
     "output_type": "display_data"
    },
    {
     "data": {
      "application/vnd.jupyter.widget-view+json": {
       "model_id": "",
       "version_major": 2,
       "version_minor": 0
      },
      "text/plain": [
       "FloatProgress(value=0.0, bar_style='info', description='Progress:', layout=Layout(height='25px', width='50%'),…"
      ]
     },
     "metadata": {},
     "output_type": "display_data"
    },
    {
     "name": "stdout",
     "output_type": "stream",
     "text": [
      "res33: Array[(Char, Int)] = Array((T,234), (d,7909), (z,18), (\",1118), (L,351), (p,7331), (R,106), (B,210), (P,475), (t,4099), (b,1130), (h,187), (n,3518), (f,3797), (j,2), (v,3984), ((,3), (Z,7), (F,140), (V,193), (:,5), (,,20), (X,73), (N,216), (r,1952), (l,8268), (D,356), (',1441), (s,9368), (e,4746), (Q,267), (G,185), (M,354), (a,5176), (O,212), (;,1), (A,268), (u,769), (I,333), (o,1363), (i,3203), (!,9), (q,2669), (-,18), (S,347), (?,546), (C,580), (E,544), (?,1), (U,35), (g,2054), (m,5186), (c,11389))\n"
     ]
    }
   ],
   "source": [
    "// 3\n",
    "rddDCWords.filter(x => !(x == \"\" || x == \"!\" || x == \".\")).map(x => (x, 1)).map({case (k,v) => (k(0), v)}).reduceByKey((x,y) => x+y).collect()"
   ]
  },
  {
   "cell_type": "code",
   "execution_count": 20,
   "id": "edc59fb0-c261-4a8b-9350-c6090910ed69",
   "metadata": {
    "execution": {
     "iopub.execute_input": "2022-10-17T09:33:27.181686Z",
     "iopub.status.busy": "2022-10-17T09:33:27.181430Z",
     "iopub.status.idle": "2022-10-17T09:33:28.006096Z",
     "shell.execute_reply": "2022-10-17T09:33:28.001948Z",
     "shell.execute_reply.started": "2022-10-17T09:33:27.181651Z"
    },
    "tags": []
   },
   "outputs": [
    {
     "data": {
      "application/vnd.jupyter.widget-view+json": {
       "model_id": "c970606e77a949e9857fee1dfafb658a",
       "version_major": 2,
       "version_minor": 0
      },
      "text/plain": [
       "VBox()"
      ]
     },
     "metadata": {},
     "output_type": "display_data"
    },
    {
     "data": {
      "application/vnd.jupyter.widget-view+json": {
       "model_id": "",
       "version_major": 2,
       "version_minor": 0
      },
      "text/plain": [
       "FloatProgress(value=0.0, bar_style='info', description='Progress:', layout=Layout(height='25px', width='50%'),…"
      ]
     },
     "metadata": {},
     "output_type": "display_data"
    },
    {
     "name": "stdout",
     "output_type": "stream",
     "text": [
      "res29: Array[(String, Iterable[Long])] = Array((campa,CompactBuffer(5)), (la,CompactBuffer(1, 3, 7, 9)), (panca,CompactBuffer(2, 8)), (sotto,CompactBuffer(6)), (crepa,CompactBuffer(11)), (sopra,CompactBuffer(0)), (capra,CompactBuffer(4, 10)))\n"
     ]
    }
   ],
   "source": [
    "// 4\n",
    "rddCapraWords.zipWithIndex().groupByKey().collect()"
   ]
  },
  {
   "cell_type": "code",
   "execution_count": null,
   "id": "943bb8c2-edaf-44bc-abc6-8f79d4b54e15",
   "metadata": {},
   "outputs": [],
   "source": []
  }
 ],
 "metadata": {
  "kernelspec": {
   "display_name": "Spark",
   "language": "scala",
   "name": "sparkkernel"
  },
  "language_info": {
   "codemirror_mode": "text/x-scala",
   "file_extension": ".sc",
   "mimetype": "text/x-scala",
   "name": "scala",
   "pygments_lexer": "scala"
  }
 },
 "nbformat": 4,
 "nbformat_minor": 5
}
