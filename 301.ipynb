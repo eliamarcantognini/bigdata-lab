{
 "cells": [
  {
   "cell_type": "markdown",
   "id": "7dd7243a-b7d3-4e47-b3ec-49cafdebada5",
   "metadata": {},
   "source": [
    "# 301 Spark basics\n",
    "\n",
    "The goal of this lab is to get familiar with Spark programming.\n",
    "\n",
    "- [Spark programming guide](https://spark.apache.org/docs/latest/rdd-programming-guide.html)\n",
    "- [RDD APIs](https://spark.apache.org/docs/latest/api/scala/org/apache/spark/rdd/RDD.html)\n",
    "- [PairRDD APIs](https://spark.apache.org/docs/latest/api/scala/org/apache/spark/rdd/PairRDDFunctions.html)\n",
    "\n",
    "## 301-2 Running a sample Spark job\n",
    "\n",
    "Goal: calculate the average temperature for every month; dataset is ```weather-sample1```."
   ]
  },
  {
   "cell_type": "code",
   "execution_count": 1,
   "id": "9323446c-bdfe-4eff-b87a-ce57f7c840b1",
   "metadata": {
    "execution": {
     "iopub.execute_input": "2022-10-12T07:54:05.949787Z",
     "iopub.status.busy": "2022-10-12T07:54:05.949552Z",
     "iopub.status.idle": "2022-10-12T07:54:51.754801Z",
     "shell.execute_reply": "2022-10-12T07:54:51.753798Z",
     "shell.execute_reply.started": "2022-10-12T07:54:05.949760Z"
    },
    "tags": []
   },
   "outputs": [
    {
     "data": {
      "application/vnd.jupyter.widget-view+json": {
       "model_id": "747fec1befe645cea3b950dbcaa2af96",
       "version_major": 2,
       "version_minor": 0
      },
      "text/plain": [
       "VBox()"
      ]
     },
     "metadata": {},
     "output_type": "display_data"
    },
    {
     "name": "stdout",
     "output_type": "stream",
     "text": [
      "Starting Spark application\n"
     ]
    },
    {
     "data": {
      "text/html": [
       "<table>\n",
       "<tr><th>ID</th><th>YARN Application ID</th><th>Kind</th><th>State</th><th>Spark UI</th><th>Driver log</th><th>User</th><th>Current session?</th></tr><tr><td>0</td><td>application_1665559624186_0001</td><td>spark</td><td>idle</td><td><a target=\"_blank\" href=\"http://ip-172-31-19-205.ec2.internal:20888/proxy/application_1665559624186_0001/\" class=\"emr-proxy-link\" emr-resource=\"j-1EGFMC48SEQZC\n",
       "\" application-id=\"application_1665559624186_0001\">Link</a></td><td><a target=\"_blank\" href=\"http://ip-172-31-22-185.ec2.internal:8042/node/containerlogs/container_1665559624186_0001_01_000001/livy\" >Link</a></td><td>None</td><td>✔</td></tr></table>"
      ],
      "text/plain": [
       "<IPython.core.display.HTML object>"
      ]
     },
     "metadata": {},
     "output_type": "display_data"
    },
    {
     "data": {
      "application/vnd.jupyter.widget-view+json": {
       "model_id": "",
       "version_major": 2,
       "version_minor": 0
      },
      "text/plain": [
       "FloatProgress(value=0.0, bar_style='info', description='Progress:', layout=Layout(height='25px', width='50%'),…"
      ]
     },
     "metadata": {},
     "output_type": "display_data"
    },
    {
     "name": "stdout",
     "output_type": "stream",
     "text": [
      "SparkSession available as 'spark'.\n"
     ]
    },
    {
     "data": {
      "application/vnd.jupyter.widget-view+json": {
       "model_id": "",
       "version_major": 2,
       "version_minor": 0
      },
      "text/plain": [
       "FloatProgress(value=0.0, bar_style='info', description='Progress:', layout=Layout(height='25px', width='50%'),…"
      ]
     },
     "metadata": {},
     "output_type": "display_data"
    },
    {
     "name": "stdout",
     "output_type": "stream",
     "text": [
      "bucketname: String = unibo-bd2223-emarcantognini\n",
      "rddWeather: org.apache.spark.rdd.RDD[String] = s3a://unibo-bd2223-emarcantognini/datasets/weather-sample1.txt MapPartitionsRDD[1] at textFile at <console>:25\n"
     ]
    }
   ],
   "source": [
    "val bucketname = \"unibo-bd2223-emarcantognini\"\n",
    "\n",
    "val rddWeather = sc.textFile(\"s3a://\"+bucketname+\"/datasets/weather-sample1.txt\")"
   ]
  },
  {
   "cell_type": "code",
   "execution_count": 2,
   "id": "09a5830c-1cd8-4f3a-bfc5-f91e9aa8d87f",
   "metadata": {
    "execution": {
     "iopub.execute_input": "2022-10-12T07:56:07.423872Z",
     "iopub.status.busy": "2022-10-12T07:56:07.423630Z",
     "iopub.status.idle": "2022-10-12T07:56:22.809025Z",
     "shell.execute_reply": "2022-10-12T07:56:22.808096Z",
     "shell.execute_reply.started": "2022-10-12T07:56:07.423839Z"
    },
    "tags": []
   },
   "outputs": [
    {
     "data": {
      "application/vnd.jupyter.widget-view+json": {
       "model_id": "bd05634af548485093bb9a5de05b9906",
       "version_major": 2,
       "version_minor": 0
      },
      "text/plain": [
       "VBox()"
      ]
     },
     "metadata": {},
     "output_type": "display_data"
    },
    {
     "data": {
      "application/vnd.jupyter.widget-view+json": {
       "model_id": "",
       "version_major": 2,
       "version_minor": 0
      },
      "text/plain": [
       "FloatProgress(value=0.0, bar_style='info', description='Progress:', layout=Layout(height='25px', width='50%'),…"
      ]
     },
     "metadata": {},
     "output_type": "display_data"
    },
    {
     "name": "stdout",
     "output_type": "stream",
     "text": [
      "parseWeatherLine: (line: String)(String, Double)\n",
      "rddWeatherKv: org.apache.spark.rdd.RDD[(String, Double)] = MapPartitionsRDD[2] at map at <console>:26\n",
      "rddTempDataPerMonth: org.apache.spark.rdd.RDD[(String, (Double, Double))] = ShuffledRDD[3] at aggregateByKey at <console>:24\n",
      "rddAvgTempPerMonth: org.apache.spark.rdd.RDD[(String, Double)] = MapPartitionsRDD[4] at map at <console>:24\n",
      "rddCached: org.apache.spark.rdd.RDD[(String, Double)] = CoalescedRDD[8] at coalesce at <console>:24\n"
     ]
    }
   ],
   "source": [
    "def parseWeatherLine(line:String):(String,Double) = {\n",
    "  val year = line.substring(15,19)\n",
    "  val month = line.substring(19,21)\n",
    "  val day = line.substring(21,23)\n",
    "  var temp = line.substring(87,92).toInt\n",
    "  (month, temp/10)\n",
    "}\n",
    "\n",
    "// Parse records\n",
    "val rddWeatherKv = rddWeather.map(x => parseWeatherLine(x))\n",
    "// Aggregate by key (i.e., month) to compute the sum and the count of temperature values\n",
    "val rddTempDataPerMonth = rddWeatherKv.aggregateByKey((0.0,0.0))((a,v)=>(a._1+v,a._2+1), (a1,a2)=>(a1._1+a2._1,a1._2+a2._2))\n",
    "// Calculate the average temperature in each record\n",
    "val rddAvgTempPerMonth = rddTempDataPerMonth.map({case(k,v) => (k, v._1/v._2)})\n",
    "// Sort, coalesce and cache the result (because it is used twice)\n",
    "val rddCached = rddAvgTempPerMonth.sortByKey().coalesce(1).cache()"
   ]
  },
  {
   "cell_type": "code",
   "execution_count": 3,
   "id": "9621e29d-4c97-4779-b7d1-e5126bce5d42",
   "metadata": {
    "execution": {
     "iopub.execute_input": "2022-10-12T07:58:54.764854Z",
     "iopub.status.busy": "2022-10-12T07:58:54.764626Z",
     "iopub.status.idle": "2022-10-12T07:59:02.083225Z",
     "shell.execute_reply": "2022-10-12T07:59:02.082326Z",
     "shell.execute_reply.started": "2022-10-12T07:58:54.764828Z"
    },
    "tags": []
   },
   "outputs": [
    {
     "data": {
      "application/vnd.jupyter.widget-view+json": {
       "model_id": "57bf189b0835446e93ee04cd9a944a04",
       "version_major": 2,
       "version_minor": 0
      },
      "text/plain": [
       "VBox()"
      ]
     },
     "metadata": {},
     "output_type": "display_data"
    },
    {
     "data": {
      "application/vnd.jupyter.widget-view+json": {
       "model_id": "",
       "version_major": 2,
       "version_minor": 0
      },
      "text/plain": [
       "FloatProgress(value=0.0, bar_style='info', description='Progress:', layout=Layout(height='25px', width='50%'),…"
      ]
     },
     "metadata": {},
     "output_type": "display_data"
    },
    {
     "name": "stdout",
     "output_type": "stream",
     "text": [
      "res8: Array[(String, Double)] = Array((01,29.764781644286497), (02,52.831468961278425), (03,49.43499927074724), (04,61.3592872169286), (05,55.82656), (06,55.45816479125297), (07,86.90952392350223), (08,79.250958082407), (09,80.51662117371808), (10,106.26454490168254), (11,113.49704495968224), (12,63.9184413544602))\n"
     ]
    }
   ],
   "source": [
    "// Show all the records\n",
    "rddCached.collect()"
   ]
  },
  {
   "cell_type": "code",
   "execution_count": 5,
   "id": "b50d2419-c6a0-4616-be1c-c24f09653107",
   "metadata": {
    "execution": {
     "iopub.execute_input": "2022-10-12T08:01:43.709362Z",
     "iopub.status.busy": "2022-10-12T08:01:43.709128Z",
     "iopub.status.idle": "2022-10-12T08:01:49.011160Z",
     "shell.execute_reply": "2022-10-12T08:01:49.010431Z",
     "shell.execute_reply.started": "2022-10-12T08:01:43.709338Z"
    },
    "tags": []
   },
   "outputs": [
    {
     "data": {
      "application/vnd.jupyter.widget-view+json": {
       "model_id": "46622c766f2b439085557c0b7e9a4025",
       "version_major": 2,
       "version_minor": 0
      },
      "text/plain": [
       "VBox()"
      ]
     },
     "metadata": {},
     "output_type": "display_data"
    },
    {
     "data": {
      "application/vnd.jupyter.widget-view+json": {
       "model_id": "",
       "version_major": 2,
       "version_minor": 0
      },
      "text/plain": [
       "FloatProgress(value=0.0, bar_style='info', description='Progress:', layout=Layout(height='25px', width='50%'),…"
      ]
     },
     "metadata": {},
     "output_type": "display_data"
    }
   ],
   "source": [
    "rddCached.saveAsTextFile(\"s3a://\"+bucketname+\"/spark/301-2_1\")"
   ]
  },
  {
   "cell_type": "markdown",
   "id": "a05b8fdd-ef59-4e64-b749-1d9ae50260bc",
   "metadata": {},
   "source": [
    "## 301-3 Spark warm-up\n",
    "\n",
    "Load the ```capra``` and ```divinacommedia``` datasets and try the following actions:\n",
    "- Show their content (```collect```)\n",
    "- Count their rows (```count```)\n",
    "- Split phrases into words (```map``` or ```flatMap```; what’s the difference?)\n",
    "- Check the results (remember: evaluation is lazy)\n",
    "- Try the ```toDebugString``` function to check the execution plan"
   ]
  },
  {
   "cell_type": "code",
   "execution_count": 6,
   "id": "52649088-9a57-437b-9127-0d29984b4e92",
   "metadata": {
    "execution": {
     "iopub.execute_input": "2022-10-12T08:03:25.172589Z",
     "iopub.status.busy": "2022-10-12T08:03:25.172315Z",
     "iopub.status.idle": "2022-10-12T08:03:25.950351Z",
     "shell.execute_reply": "2022-10-12T08:03:25.948926Z",
     "shell.execute_reply.started": "2022-10-12T08:03:25.172560Z"
    },
    "tags": []
   },
   "outputs": [
    {
     "data": {
      "application/vnd.jupyter.widget-view+json": {
       "model_id": "fe931700e9d1440890f9ba3ba5668dbb",
       "version_major": 2,
       "version_minor": 0
      },
      "text/plain": [
       "VBox()"
      ]
     },
     "metadata": {},
     "output_type": "display_data"
    },
    {
     "data": {
      "application/vnd.jupyter.widget-view+json": {
       "model_id": "",
       "version_major": 2,
       "version_minor": 0
      },
      "text/plain": [
       "FloatProgress(value=0.0, bar_style='info', description='Progress:', layout=Layout(height='25px', width='50%'),…"
      ]
     },
     "metadata": {},
     "output_type": "display_data"
    },
    {
     "name": "stdout",
     "output_type": "stream",
     "text": [
      "rddCapra: org.apache.spark.rdd.RDD[String] = s3a://unibo-bd2223-emarcantognini/datasets/capra.txt MapPartitionsRDD[12] at textFile at <console>:24\n",
      "rddDC: org.apache.spark.rdd.RDD[String] = s3a://unibo-bd2223-emarcantognini/datasets/divinacommedia.txt MapPartitionsRDD[14] at textFile at <console>:24\n"
     ]
    }
   ],
   "source": [
    "val rddCapra = sc.textFile(\"s3a://\"+bucketname+\"/datasets/capra.txt\")\n",
    "val rddDC = sc.textFile(\"s3a://\"+bucketname+\"/datasets/divinacommedia.txt\")"
   ]
  },
  {
   "cell_type": "code",
   "execution_count": 7,
   "id": "c15f1258-961d-41d5-9c33-80c3aff8561e",
   "metadata": {
    "execution": {
     "iopub.execute_input": "2022-10-12T08:04:49.913927Z",
     "iopub.status.busy": "2022-10-12T08:04:49.913691Z",
     "iopub.status.idle": "2022-10-12T08:04:51.203983Z",
     "shell.execute_reply": "2022-10-12T08:04:51.203073Z",
     "shell.execute_reply.started": "2022-10-12T08:04:49.913902Z"
    }
   },
   "outputs": [
    {
     "data": {
      "application/vnd.jupyter.widget-view+json": {
       "model_id": "1d52f442ba934233a86a58d650092e41",
       "version_major": 2,
       "version_minor": 0
      },
      "text/plain": [
       "VBox()"
      ]
     },
     "metadata": {},
     "output_type": "display_data"
    },
    {
     "data": {
      "application/vnd.jupyter.widget-view+json": {
       "model_id": "",
       "version_major": 2,
       "version_minor": 0
      },
      "text/plain": [
       "FloatProgress(value=0.0, bar_style='info', description='Progress:', layout=Layout(height='25px', width='50%'),…"
      ]
     },
     "metadata": {},
     "output_type": "display_data"
    },
    {
     "name": "stdout",
     "output_type": "stream",
     "text": [
      "res11: Array[String] = Array(sopra la panca la capra campa, sotto la panca la capra crepa)\n"
     ]
    }
   ],
   "source": [
    "rddCapra.collect()"
   ]
  },
  {
   "cell_type": "code",
   "execution_count": 8,
   "id": "22dcc681-9cff-488e-9f25-69ca33c960f8",
   "metadata": {
    "execution": {
     "iopub.execute_input": "2022-10-12T08:05:22.617403Z",
     "iopub.status.busy": "2022-10-12T08:05:22.617165Z",
     "iopub.status.idle": "2022-10-12T08:05:23.389778Z",
     "shell.execute_reply": "2022-10-12T08:05:23.389094Z",
     "shell.execute_reply.started": "2022-10-12T08:05:22.617380Z"
    }
   },
   "outputs": [
    {
     "data": {
      "application/vnd.jupyter.widget-view+json": {
       "model_id": "a08cc297671640bd89bd3a585d5ab8e4",
       "version_major": 2,
       "version_minor": 0
      },
      "text/plain": [
       "VBox()"
      ]
     },
     "metadata": {},
     "output_type": "display_data"
    },
    {
     "data": {
      "application/vnd.jupyter.widget-view+json": {
       "model_id": "",
       "version_major": 2,
       "version_minor": 0
      },
      "text/plain": [
       "FloatProgress(value=0.0, bar_style='info', description='Progress:', layout=Layout(height='25px', width='50%'),…"
      ]
     },
     "metadata": {},
     "output_type": "display_data"
    },
    {
     "name": "stdout",
     "output_type": "stream",
     "text": [
      "res12: Long = 2\n"
     ]
    }
   ],
   "source": [
    "rddCapra.count()"
   ]
  },
  {
   "cell_type": "code",
   "execution_count": 10,
   "id": "6f3a371d-7553-432a-a2ee-69f2910878ab",
   "metadata": {
    "execution": {
     "iopub.execute_input": "2022-10-12T08:06:15.988834Z",
     "iopub.status.busy": "2022-10-12T08:06:15.988252Z",
     "iopub.status.idle": "2022-10-12T08:06:16.790305Z",
     "shell.execute_reply": "2022-10-12T08:06:16.789591Z",
     "shell.execute_reply.started": "2022-10-12T08:06:15.988793Z"
    },
    "tags": []
   },
   "outputs": [
    {
     "data": {
      "application/vnd.jupyter.widget-view+json": {
       "model_id": "e5e1930fbcab4a0aaaacbc863af28f84",
       "version_major": 2,
       "version_minor": 0
      },
      "text/plain": [
       "VBox()"
      ]
     },
     "metadata": {},
     "output_type": "display_data"
    },
    {
     "data": {
      "application/vnd.jupyter.widget-view+json": {
       "model_id": "",
       "version_major": 2,
       "version_minor": 0
      },
      "text/plain": [
       "FloatProgress(value=0.0, bar_style='info', description='Progress:', layout=Layout(height='25px', width='50%'),…"
      ]
     },
     "metadata": {},
     "output_type": "display_data"
    },
    {
     "name": "stdout",
     "output_type": "stream",
     "text": [
      "res14: Array[String] = Array(sopra, la, panca, la, capra, campa, sotto, la, panca, la, capra, crepa)\n"
     ]
    }
   ],
   "source": [
    "rddCapra.flatMap(x => x.split(\" \")).collect()"
   ]
  },
  {
   "cell_type": "code",
   "execution_count": 14,
   "id": "8aca1551-988a-490e-82b1-e6186f28de1d",
   "metadata": {
    "execution": {
     "iopub.execute_input": "2022-10-12T08:08:59.560423Z",
     "iopub.status.busy": "2022-10-12T08:08:59.560186Z",
     "iopub.status.idle": "2022-10-12T08:09:00.330947Z",
     "shell.execute_reply": "2022-10-12T08:09:00.330273Z",
     "shell.execute_reply.started": "2022-10-12T08:08:59.560398Z"
    }
   },
   "outputs": [
    {
     "data": {
      "application/vnd.jupyter.widget-view+json": {
       "model_id": "60481a7be6d34c02950bd03c302fcdbb",
       "version_major": 2,
       "version_minor": 0
      },
      "text/plain": [
       "VBox()"
      ]
     },
     "metadata": {},
     "output_type": "display_data"
    },
    {
     "data": {
      "application/vnd.jupyter.widget-view+json": {
       "model_id": "",
       "version_major": 2,
       "version_minor": 0
      },
      "text/plain": [
       "FloatProgress(value=0.0, bar_style='info', description='Progress:', layout=Layout(height='25px', width='50%'),…"
      ]
     },
     "metadata": {},
     "output_type": "display_data"
    },
    {
     "name": "stdout",
     "output_type": "stream",
     "text": [
      "res18: Array[String] = Array(LA DIVINA COMMEDIA, di Dante Alighieri, INFERNO, \"\", \"\", \"\", Inferno: Canto I, \"\", \"  Nel mezzo del cammin di nostra vita\", mi ritrovai per una selva oscura, ch? la diritta via era smarrita., \"  Ahi quanto a dir qual era ? cosa dura\", esta selva selvaggia e aspra e forte, che nel pensier rinova la paura!, \"  Tant'? amara che poco ? pi? morte;\", ma per trattar del ben ch'i' vi trovai,, dir? de l'altre cose ch'i' v'ho scorte., \"  Io non so ben ridir com'i' v'intrai,\", tant'era pien di sonno a quel punto, che la verace via abbandonai., \"  Ma poi ch'i' fui al pi? d'un colle giunto,\", l? dove terminava quella valle, che m'avea di paura il cor compunto,, \"  guardai in alto, e vidi le sue spalle\", vestite gi? de' raggi del pianeta, che mena dritto altrui per ogne c...\n"
     ]
    }
   ],
   "source": [
    "rddDC.collect()"
   ]
  },
  {
   "cell_type": "code",
   "execution_count": 11,
   "id": "a9c82edb-291c-48c0-8024-9f1d38ba664a",
   "metadata": {
    "execution": {
     "iopub.execute_input": "2022-10-12T08:07:13.427065Z",
     "iopub.status.busy": "2022-10-12T08:07:13.426836Z",
     "iopub.status.idle": "2022-10-12T08:07:14.216055Z",
     "shell.execute_reply": "2022-10-12T08:07:14.215165Z",
     "shell.execute_reply.started": "2022-10-12T08:07:13.427041Z"
    }
   },
   "outputs": [
    {
     "data": {
      "application/vnd.jupyter.widget-view+json": {
       "model_id": "4932d07183bd4cb69b280e7aaf20ee45",
       "version_major": 2,
       "version_minor": 0
      },
      "text/plain": [
       "VBox()"
      ]
     },
     "metadata": {},
     "output_type": "display_data"
    },
    {
     "data": {
      "application/vnd.jupyter.widget-view+json": {
       "model_id": "",
       "version_major": 2,
       "version_minor": 0
      },
      "text/plain": [
       "FloatProgress(value=0.0, bar_style='info', description='Progress:', layout=Layout(height='25px', width='50%'),…"
      ]
     },
     "metadata": {},
     "output_type": "display_data"
    },
    {
     "name": "stdout",
     "output_type": "stream",
     "text": [
      "res15: Long = 14753\n"
     ]
    }
   ],
   "source": [
    "rddDC.count()"
   ]
  },
  {
   "cell_type": "code",
   "execution_count": 16,
   "id": "c1cce1c6-cf2d-4f47-8d71-5c7017a732cc",
   "metadata": {
    "execution": {
     "iopub.execute_input": "2022-10-12T08:12:22.799449Z",
     "iopub.status.busy": "2022-10-12T08:12:22.799227Z",
     "iopub.status.idle": "2022-10-12T08:12:23.575668Z",
     "shell.execute_reply": "2022-10-12T08:12:23.574780Z",
     "shell.execute_reply.started": "2022-10-12T08:12:22.799425Z"
    },
    "tags": []
   },
   "outputs": [
    {
     "data": {
      "application/vnd.jupyter.widget-view+json": {
       "model_id": "3e1f2692609f446a890f0140b902706b",
       "version_major": 2,
       "version_minor": 0
      },
      "text/plain": [
       "VBox()"
      ]
     },
     "metadata": {},
     "output_type": "display_data"
    },
    {
     "data": {
      "application/vnd.jupyter.widget-view+json": {
       "model_id": "",
       "version_major": 2,
       "version_minor": 0
      },
      "text/plain": [
       "FloatProgress(value=0.0, bar_style='info', description='Progress:', layout=Layout(height='25px', width='50%'),…"
      ]
     },
     "metadata": {},
     "output_type": "display_data"
    },
    {
     "name": "stdout",
     "output_type": "stream",
     "text": [
      "res20: Array[String] = Array(LA, DIVINA, COMMEDIA, di, Dante, Alighieri, INFERNO, \"\", \"\", \"\", Inferno:, Canto, I, \"\", \"\", \"\", Nel, mezzo, del, cammin, di, nostra, vita, mi, ritrovai, per, una, selva, oscura, ch?, la, diritta, via, era, smarrita., \"\", \"\", Ahi, quanto, a, dir, qual, era, ?, cosa, dura, esta, selva, selvaggia, e, aspra, e, forte, che, nel, pensier, rinova, la, paura!, \"\", \"\", Tant'?, amara, che, poco, ?, pi?, morte;, ma, per, trattar, del, ben, ch'i', vi, trovai,, dir?, de, l'altre, cose, ch'i', v'ho, scorte., \"\", \"\", Io, non, so, ben, ridir, com'i', v'intrai,, tant'era, pien, di, sonno, a, quel, punto, che, la, verace, via, abbandonai., \"\", \"\", Ma, poi, ch'i', fui, al, pi?, d'un, colle, giunto,, l?, dove, terminava, quella, valle, che, m'avea, di, paura, il, cor, compunto...\n"
     ]
    }
   ],
   "source": [
    "rddDC.flatMap(x => x.split(\" \")).collect()"
   ]
  },
  {
   "cell_type": "markdown",
   "id": "bb2d9363-3ce0-411b-a826-ee3cceb935a1",
   "metadata": {},
   "source": [
    "## 301-4 From MapReduce to Spark\n",
    "\n",
    "Reproduce on Spark the exercises seen on Hadoop MapReduce on the capra and divinacommedia datasets.\n",
    "\n",
    "- Jobs:\n",
    "  - Count the number of occurrences of each word\n",
    "    - Result: (sopra, 1), (la, 4), …\n",
    "  - Count the number of occurrences of words of given lengths\n",
    "    - Result: (2, 4), (5, 8)\n",
    "  - Count the average length of words given their first letter (hint: check the example in 301-1)\n",
    "    - Result: (s, 5), (l, 2), …\n",
    "  - Return the inverted index of words\n",
    "    - Result: (sopra, (0)), (la, (0, 1)), ...\n",
    "- How does Spark compare with respect to MapReduce? (performance, ease of use)\n",
    "- How is the output sorted? How can you sort by value?"
   ]
  },
  {
   "cell_type": "code",
   "execution_count": 66,
   "id": "c29cca59-db7d-46ac-94d0-a9c80b047c94",
   "metadata": {
    "execution": {
     "iopub.execute_input": "2022-10-12T08:48:51.302608Z",
     "iopub.status.busy": "2022-10-12T08:48:51.302383Z",
     "iopub.status.idle": "2022-10-12T08:48:51.613995Z",
     "shell.execute_reply": "2022-10-12T08:48:51.613221Z",
     "shell.execute_reply.started": "2022-10-12T08:48:51.302584Z"
    },
    "tags": []
   },
   "outputs": [
    {
     "data": {
      "application/vnd.jupyter.widget-view+json": {
       "model_id": "889e02ea19ff436ea0844c05a7f782df",
       "version_major": 2,
       "version_minor": 0
      },
      "text/plain": [
       "VBox()"
      ]
     },
     "metadata": {},
     "output_type": "display_data"
    },
    {
     "data": {
      "application/vnd.jupyter.widget-view+json": {
       "model_id": "",
       "version_major": 2,
       "version_minor": 0
      },
      "text/plain": [
       "FloatProgress(value=0.0, bar_style='info', description='Progress:', layout=Layout(height='25px', width='50%'),…"
      ]
     },
     "metadata": {},
     "output_type": "display_data"
    },
    {
     "name": "stdout",
     "output_type": "stream",
     "text": [
      "rddCapraWords: org.apache.spark.rdd.RDD[String] = MapPartitionsRDD[118] at flatMap at <console>:23\n"
     ]
    }
   ],
   "source": [
    "val rddCapraWords = rddCapra.flatMap(_.split(\" \")).cache()"
   ]
  },
  {
   "cell_type": "code",
   "execution_count": 67,
   "id": "e534d32e-7c19-4267-8ed1-1b6ac90b5a31",
   "metadata": {
    "execution": {
     "iopub.execute_input": "2022-10-12T08:48:55.777395Z",
     "iopub.status.busy": "2022-10-12T08:48:55.777162Z",
     "iopub.status.idle": "2022-10-12T08:48:56.039221Z",
     "shell.execute_reply": "2022-10-12T08:48:56.038499Z",
     "shell.execute_reply.started": "2022-10-12T08:48:55.777369Z"
    },
    "tags": []
   },
   "outputs": [
    {
     "data": {
      "application/vnd.jupyter.widget-view+json": {
       "model_id": "e78f3641d14c4e2ca1edaa2bfe626c48",
       "version_major": 2,
       "version_minor": 0
      },
      "text/plain": [
       "VBox()"
      ]
     },
     "metadata": {},
     "output_type": "display_data"
    },
    {
     "data": {
      "application/vnd.jupyter.widget-view+json": {
       "model_id": "",
       "version_major": 2,
       "version_minor": 0
      },
      "text/plain": [
       "FloatProgress(value=0.0, bar_style='info', description='Progress:', layout=Layout(height='25px', width='50%'),…"
      ]
     },
     "metadata": {},
     "output_type": "display_data"
    },
    {
     "name": "stdout",
     "output_type": "stream",
     "text": [
      "rddDCWords: org.apache.spark.rdd.RDD[String] = MapPartitionsRDD[119] at flatMap at <console>:23\n"
     ]
    }
   ],
   "source": [
    "val rddDCWords = rddDC.flatMap(_.split(\" \")).cache()"
   ]
  },
  {
   "cell_type": "code",
   "execution_count": 69,
   "id": "eb459a42-6015-4c1a-9481-16f42a413040",
   "metadata": {
    "execution": {
     "iopub.execute_input": "2022-10-12T08:49:26.345948Z",
     "iopub.status.busy": "2022-10-12T08:49:26.345716Z",
     "iopub.status.idle": "2022-10-12T08:49:27.119930Z",
     "shell.execute_reply": "2022-10-12T08:49:27.118939Z",
     "shell.execute_reply.started": "2022-10-12T08:49:26.345924Z"
    },
    "tags": []
   },
   "outputs": [
    {
     "data": {
      "application/vnd.jupyter.widget-view+json": {
       "model_id": "c90a990f0d4246c585f583daed6db721",
       "version_major": 2,
       "version_minor": 0
      },
      "text/plain": [
       "VBox()"
      ]
     },
     "metadata": {},
     "output_type": "display_data"
    },
    {
     "data": {
      "application/vnd.jupyter.widget-view+json": {
       "model_id": "",
       "version_major": 2,
       "version_minor": 0
      },
      "text/plain": [
       "FloatProgress(value=0.0, bar_style='info', description='Progress:', layout=Layout(height='25px', width='50%'),…"
      ]
     },
     "metadata": {},
     "output_type": "display_data"
    },
    {
     "name": "stdout",
     "output_type": "stream",
     "text": [
      "res92: Array[(String, Int)] = Array((campa,1), (la,4), (panca,2), (sotto,1), (crepa,1), (sopra,1), (capra,2))\n"
     ]
    }
   ],
   "source": [
    "// 1\n",
    "rddCapraWords.map(x => (x, 1)).reduceByKey((x, y) => x + y).collect()"
   ]
  },
  {
   "cell_type": "code",
   "execution_count": 70,
   "id": "92a7492e-d405-452a-8755-dba760788e97",
   "metadata": {
    "execution": {
     "iopub.execute_input": "2022-10-12T08:49:38.313045Z",
     "iopub.status.busy": "2022-10-12T08:49:38.312813Z",
     "iopub.status.idle": "2022-10-12T08:49:39.083346Z",
     "shell.execute_reply": "2022-10-12T08:49:39.082286Z",
     "shell.execute_reply.started": "2022-10-12T08:49:38.313021Z"
    },
    "tags": []
   },
   "outputs": [
    {
     "data": {
      "application/vnd.jupyter.widget-view+json": {
       "model_id": "97e0a04e7d194a098cbd99f34bc626b3",
       "version_major": 2,
       "version_minor": 0
      },
      "text/plain": [
       "VBox()"
      ]
     },
     "metadata": {},
     "output_type": "display_data"
    },
    {
     "data": {
      "application/vnd.jupyter.widget-view+json": {
       "model_id": "",
       "version_major": 2,
       "version_minor": 0
      },
      "text/plain": [
       "FloatProgress(value=0.0, bar_style='info', description='Progress:', layout=Layout(height='25px', width='50%'),…"
      ]
     },
     "metadata": {},
     "output_type": "display_data"
    },
    {
     "name": "stdout",
     "output_type": "stream",
     "text": [
      "res94: Array[(String, Int)] = Array((grand'avello,,1), (diseta,1), (vane.,1), (tonda,3), (blandimenti;,1), (sapore,1), (dando,3), (Verrucchio,,1), (Mantua,1), (m'apparvero,1), (disiderate,1), (dole,1), (moventi,1), (rincalzi,1), (freni,,1), (Voglia,1), (focina,1), (tormento,5), (s?:,2), (marino,,1), (scalz?,1), (pensassi,1), (esser,,2), (rade,2), (prava\".,1), (Forese,,1), (forti,4), (rossi:,1), (richiuso\".,1), (\"Segnor,1), (rota.,1), (\"ver',1), (pronti,1), (tr'ambo,2), (ch'ode,1), (chiari,,1), (lontana?\".,1), (rinovelle.,1), (perdonasse,1), (Pluto,,1), (falsai,2), (nova,,3), (sparito,,1), (stampa,,1), (doglia,7), (regina,3), (pianto;,2), (Alto,2), (giovinezza.,1), (quell'albor,1), (asciutto,,1), (ch'ello,1), (padre,,14), (coperchio,3), (vite,4), (Anassagora,1), (dormia,,1), (consum?,1),...\n"
     ]
    }
   ],
   "source": [
    "// 1\n",
    "rddDCWords.map(x => (x, 1)).reduceByKey((x, y) => x + y).collect()"
   ]
  },
  {
   "cell_type": "code",
   "execution_count": 62,
   "id": "32e948d0-6741-4aca-99c2-729c781d5a8a",
   "metadata": {
    "execution": {
     "iopub.execute_input": "2022-10-12T08:36:50.338937Z",
     "iopub.status.busy": "2022-10-12T08:36:50.338687Z",
     "iopub.status.idle": "2022-10-12T08:36:51.107870Z",
     "shell.execute_reply": "2022-10-12T08:36:51.106834Z",
     "shell.execute_reply.started": "2022-10-12T08:36:50.338911Z"
    }
   },
   "outputs": [
    {
     "data": {
      "application/vnd.jupyter.widget-view+json": {
       "model_id": "63b2bf0c7df9465e867f52bea2caf1e8",
       "version_major": 2,
       "version_minor": 0
      },
      "text/plain": [
       "VBox()"
      ]
     },
     "metadata": {},
     "output_type": "display_data"
    },
    {
     "data": {
      "application/vnd.jupyter.widget-view+json": {
       "model_id": "",
       "version_major": 2,
       "version_minor": 0
      },
      "text/plain": [
       "FloatProgress(value=0.0, bar_style='info', description='Progress:', layout=Layout(height='25px', width='50%'),…"
      ]
     },
     "metadata": {},
     "output_type": "display_data"
    },
    {
     "name": "stdout",
     "output_type": "stream",
     "text": [
      "res84: Array[(Int, Int)] = Array((2,4), (5,8))\n"
     ]
    }
   ],
   "source": [
    "// 2\n",
    "rddCapraWords.map(x => (x, 1)).map({case (k,v) => (k.size, v)}).reduceByKey((x,y) => x+y).collect()"
   ]
  },
  {
   "cell_type": "code",
   "execution_count": 63,
   "id": "1c706cbb-628c-4cd6-b3c2-fe04c87a6040",
   "metadata": {
    "execution": {
     "iopub.execute_input": "2022-10-12T08:37:14.157967Z",
     "iopub.status.busy": "2022-10-12T08:37:14.157732Z",
     "iopub.status.idle": "2022-10-12T08:37:14.925398Z",
     "shell.execute_reply": "2022-10-12T08:37:14.924601Z",
     "shell.execute_reply.started": "2022-10-12T08:37:14.157943Z"
    }
   },
   "outputs": [
    {
     "data": {
      "application/vnd.jupyter.widget-view+json": {
       "model_id": "ca85bfb344ca4237b75b002cd3c68e2a",
       "version_major": 2,
       "version_minor": 0
      },
      "text/plain": [
       "VBox()"
      ]
     },
     "metadata": {},
     "output_type": "display_data"
    },
    {
     "data": {
      "application/vnd.jupyter.widget-view+json": {
       "model_id": "",
       "version_major": 2,
       "version_minor": 0
      },
      "text/plain": [
       "FloatProgress(value=0.0, bar_style='info', description='Progress:', layout=Layout(height='25px', width='50%'),…"
      ]
     },
     "metadata": {},
     "output_type": "display_data"
    },
    {
     "name": "stdout",
     "output_type": "stream",
     "text": [
      "res86: Array[(Int, Int)] = Array((4,9111), (16,3), (14,50), (6,11775), (8,5363), (12,370), (10,1741), (2,19258), (13,154), (15,18), (11,933), (1,6988), (17,1), (3,16887), (7,7379), (9,3231), (5,13504))\n"
     ]
    }
   ],
   "source": [
    "// 2\n",
    "rddDCWords.filter(x => !(x == \"\" || x == \"!\" || x == \".\")).map(x => (x, 1)).map({case (k,v) => (k.size, v)}).reduceByKey((x,y) => x+y).collect()"
   ]
  },
  {
   "cell_type": "code",
   "execution_count": 59,
   "id": "a7c1d8da-43f4-48bf-9efd-8ec274b40cb9",
   "metadata": {
    "execution": {
     "iopub.execute_input": "2022-10-12T08:35:45.847460Z",
     "iopub.status.busy": "2022-10-12T08:35:45.847215Z",
     "iopub.status.idle": "2022-10-12T08:35:46.632351Z",
     "shell.execute_reply": "2022-10-12T08:35:46.631553Z",
     "shell.execute_reply.started": "2022-10-12T08:35:45.847428Z"
    },
    "tags": []
   },
   "outputs": [
    {
     "data": {
      "application/vnd.jupyter.widget-view+json": {
       "model_id": "23ac7482cc5341b2b5f231958b835ded",
       "version_major": 2,
       "version_minor": 0
      },
      "text/plain": [
       "VBox()"
      ]
     },
     "metadata": {},
     "output_type": "display_data"
    },
    {
     "data": {
      "application/vnd.jupyter.widget-view+json": {
       "model_id": "",
       "version_major": 2,
       "version_minor": 0
      },
      "text/plain": [
       "FloatProgress(value=0.0, bar_style='info', description='Progress:', layout=Layout(height='25px', width='50%'),…"
      ]
     },
     "metadata": {},
     "output_type": "display_data"
    },
    {
     "name": "stdout",
     "output_type": "stream",
     "text": [
      "res79: Array[(Char, Int)] = Array((p,2), (l,4), (s,2), (c,4))\n"
     ]
    }
   ],
   "source": [
    "// 3\n",
    "rddCapraWords.map(x => (x, 1)).map({case (k,v) => (k(0), v)}).reduceByKey((x,y) => x+y).collect()"
   ]
  },
  {
   "cell_type": "code",
   "execution_count": 58,
   "id": "52dba21e-b816-488b-8dc9-60a890d3b794",
   "metadata": {
    "execution": {
     "iopub.execute_input": "2022-10-12T08:35:33.922070Z",
     "iopub.status.busy": "2022-10-12T08:35:33.921851Z",
     "iopub.status.idle": "2022-10-12T08:35:36.200624Z",
     "shell.execute_reply": "2022-10-12T08:35:36.199579Z",
     "shell.execute_reply.started": "2022-10-12T08:35:33.922046Z"
    },
    "tags": []
   },
   "outputs": [
    {
     "data": {
      "application/vnd.jupyter.widget-view+json": {
       "model_id": "2d3a62b496574076908024ba4155c341",
       "version_major": 2,
       "version_minor": 0
      },
      "text/plain": [
       "VBox()"
      ]
     },
     "metadata": {},
     "output_type": "display_data"
    },
    {
     "data": {
      "application/vnd.jupyter.widget-view+json": {
       "model_id": "",
       "version_major": 2,
       "version_minor": 0
      },
      "text/plain": [
       "FloatProgress(value=0.0, bar_style='info', description='Progress:', layout=Layout(height='25px', width='50%'),…"
      ]
     },
     "metadata": {},
     "output_type": "display_data"
    },
    {
     "name": "stdout",
     "output_type": "stream",
     "text": [
      "res77: Array[(Char, Int)] = Array((T,234), (d,7909), (z,18), (\",1118), (L,351), (p,7331), (R,106), (B,210), (P,475), (t,4099), (b,1130), (h,187), (n,3518), (f,3797), (j,2), (v,3984), ((,3), (Z,7), (F,140), (V,193), (:,5), (,,20), (X,73), (N,216), (r,1952), (l,8268), (D,356), (',1441), (s,9368), (e,4746), (Q,267), (G,185), (M,354), (a,5176), (O,212), (;,1), (A,268), (u,769), (I,333), (o,1363), (i,3203), (!,9), (q,2669), (-,18), (S,347), (?,546), (C,580), (E,544), (?,1), (U,35), (g,2054), (m,5186), (c,11389))\n"
     ]
    }
   ],
   "source": [
    "// 3\n",
    "rddDCWords.filter(x => !(x == \"\" || x == \"!\" || x == \".\")).map(x => (x, 1)).map({case (k,v) => (k(0), v)}).reduceByKey((x,y) => x+y).collect()"
   ]
  },
  {
   "cell_type": "code",
   "execution_count": 64,
   "id": "edc59fb0-c261-4a8b-9350-c6090910ed69",
   "metadata": {
    "execution": {
     "iopub.execute_input": "2022-10-12T08:40:17.636391Z",
     "iopub.status.busy": "2022-10-12T08:40:17.636164Z",
     "iopub.status.idle": "2022-10-12T08:40:18.408670Z",
     "shell.execute_reply": "2022-10-12T08:40:18.407985Z",
     "shell.execute_reply.started": "2022-10-12T08:40:17.636368Z"
    }
   },
   "outputs": [
    {
     "data": {
      "application/vnd.jupyter.widget-view+json": {
       "model_id": "f17dbf3f9cd54cd69b44bbcdd990d024",
       "version_major": 2,
       "version_minor": 0
      },
      "text/plain": [
       "VBox()"
      ]
     },
     "metadata": {},
     "output_type": "display_data"
    },
    {
     "data": {
      "application/vnd.jupyter.widget-view+json": {
       "model_id": "",
       "version_major": 2,
       "version_minor": 0
      },
      "text/plain": [
       "FloatProgress(value=0.0, bar_style='info', description='Progress:', layout=Layout(height='25px', width='50%'),…"
      ]
     },
     "metadata": {},
     "output_type": "display_data"
    },
    {
     "name": "stdout",
     "output_type": "stream",
     "text": [
      "res88: Array[(String, Long)] = Array((sopra,0), (la,1), (panca,2), (la,3), (capra,4), (campa,5), (sotto,6), (la,7), (panca,8), (la,9), (capra,10), (crepa,11))\n"
     ]
    }
   ],
   "source": [
    "// 4\n",
    "rddCapraWords.zipWithIndex()"
   ]
  },
  {
   "cell_type": "code",
   "execution_count": null,
   "id": "943bb8c2-edaf-44bc-abc6-8f79d4b54e15",
   "metadata": {},
   "outputs": [],
   "source": []
  }
 ],
 "metadata": {
  "kernelspec": {
   "display_name": "Spark",
   "language": "scala",
   "name": "sparkkernel"
  },
  "language_info": {
   "codemirror_mode": "text/x-scala",
   "file_extension": ".sc",
   "mimetype": "text/x-scala",
   "name": "scala",
   "pygments_lexer": "scala"
  }
 },
 "nbformat": 4,
 "nbformat_minor": 5
}
